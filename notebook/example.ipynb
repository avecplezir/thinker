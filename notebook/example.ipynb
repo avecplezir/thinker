{
 "cells": [
  {
   "cell_type": "markdown",
   "metadata": {},
   "source": [
    "## Example of Thinker-Augmented MDP\n",
    "\n",
    "This notebook serves as an example of how to use the Thinker-augmented MDP with an actor-critic network. It can also be used to see how a trained agent acts in the augmented MDP.\n",
    "\n",
    "We first initialize the environment and the actor-critic network here."
   ]
  },
  {
   "cell_type": "code",
   "execution_count": 3,
   "metadata": {},
   "outputs": [
    {
     "name": "stderr",
     "output_type": "stream",
     "text": [
      "Initializing env 0 with device cpu\n"
     ]
    },
    {
     "name": "stdout",
     "output_type": "stream",
     "text": [
      "Symlinked log directory: /mnt/c/Users/user/RS/thinker/logs/thinker/latest\n",
      "Wrote config file to /mnt/c/Users/user/RS/thinker/logs/thinker/thinker-20240904-183704/config_c.yaml\n"
     ]
    },
    {
     "name": "stderr",
     "output_type": "stream",
     "text": [
      "Init. environment with obs space \u001b[91mBox(0, 255, (3, 80, 80), uint8)\u001b[0m and action space \u001b[91mDiscrete(5)\u001b[0m\n",
      "Model network size: 1726182\n"
     ]
    }
   ],
   "source": [
    "from thinker.main import Env\n",
    "from thinker.util import init_env_out\n",
    "from thinker.actor_net import ActorNet\n",
    "import thinker.util as util\n",
    "import matplotlib.pyplot as plt\n",
    "import os\n",
    "import torch\n",
    "\n",
    "name = \"Sokoban-v0\" # name of the environment\n",
    "wrapper_type = 2 # wrapper type; 0 for Thinker-augmented env, 1 for raw env, 2 for Thinker-augmented env with perfect model\n",
    "xpid = None # or set it to the xpid of an existing run\n",
    "gpu = False # whether to use gpu\n",
    "savedir = \"../logs/thinker\" # save directory\n",
    "env_n = 8 # batch size of the env\n",
    "seed = 1 # seed\n",
    "\n",
    "ckp = xpid is not None\n",
    "savedir = util.full_path(savedir)\n",
    "\n",
    "extra_params = {\n",
    "    \"name\": name,\n",
    "    \"wrapper_type\": wrapper_type, \n",
    "    \"rec_t\": 10, # add any extra argument here if needed, e.g. rec_t (number of imagainary steps)\n",
    "}\n",
    "if ckp:\n",
    "    ckpdir = os.path.join(savedir, xpid)      \n",
    "    if os.path.islink(ckpdir): ckpdir = os.readlink(ckpdir)  \n",
    "    ckpdir =  os.path.abspath(os.path.expanduser(ckpdir))\n",
    "    extra_params = {}\n",
    "\n",
    "flags = util.create_setting(\n",
    "    args=[], \n",
    "    savedir=savedir, \n",
    "    xpid=xpid, \n",
    "    ckp=ckp, \n",
    "    save_flags=False, \n",
    "    train_model=False,    \n",
    "    parallel=False, \n",
    "    base_seed=seed,    \n",
    "    env_n=env_n,  \n",
    "    **extra_params\n",
    ")\n",
    "\n",
    "# create a Thinker-augmented environment\n",
    "flags.return_x = True # these flags are automatically set in create_setting; so we override them here\n",
    "flags.return_h = True\n",
    "flags.gpu = gpu\n",
    "env = Env(**vars(flags))\n",
    "device = env.device\n",
    "\n",
    "# load actor-network\n",
    "actor_net = ActorNet(\n",
    "    obs_space=env.observation_space, \n",
    "    action_space=env.action_space, \n",
    "    flags=flags, \n",
    "    tree_rep_meaning=env.get_tree_rep_meaning() if wrapper_type != 1 else None\n",
    ")\n",
    "if xpid is not None: \n",
    "    checkpoint = torch.load(os.path.join(flags.savedir, xpid, \"ckp_actor.tar\"))[\"actor_net_state_dict\"]\n",
    "    actor_net.load_state_dict(checkpoint)\n",
    "actor_net = actor_net.to(device)\n",
    "\n",
    "# reset the environment and initialize the initial state for the actor\n",
    "state, info = env.reset()\n",
    "env_out = init_env_out(state, info, flags=flags, dim_actions=actor_net.dim_actions, tuple_action=actor_net.tuple_action)  \n",
    "actor_state = actor_net.initial_state(batch_size=env.env_n, device=device)"
   ]
  },
  {
   "cell_type": "markdown",
   "metadata": {},
   "source": [
    "### One Step in the Environment\n",
    "\n",
    "The following code performs one step in the environment using the output of the `actor_net`, and can be executed multiple times. The returned state should contain four types of information:\n",
    "\n",
    "- `tree_reps`: the tree representation that contains information such as predicted rewards, values, policies, and other hints.\n",
    "- `real_states`: the real state of the current stage; it is fixed for all imaginary steps.\n",
    "- `xs`: the imaginative state predicted by the model.\n",
    "- `hs`: the hidden state of the model.\n",
    "\n",
    "You can substitute the `action` with a fixed action to understand how the mdp works. `info` also contains useful information, such as whether the last step is real or imagaination."
   ]
  },
  {
   "cell_type": "code",
   "execution_count": 5,
   "metadata": {},
   "outputs": [
    {
     "name": "stdout",
     "output_type": "stream",
     "text": [
      "=============State=============\n",
      "tree_reps torch.Size([8, 101])\n",
      "real_states torch.Size([8, 3, 80, 80])\n",
      "xs torch.Size([8, 3, 80, 80])\n",
      "hs torch.Size([8, 128, 5, 5])\n",
      "=============TreeRep============\n",
      "root_action tensor([1., 0., 0., 0., 0.])\n",
      "root_r tensor([0.])\n",
      "root_d tensor([0.])\n",
      "root_v tensor([0.])\n",
      "root_policy tensor([0., 0., 0., 0., 0.])\n",
      "root_qs_mean tensor([ 0.0000, -0.0100, -0.0100,  0.0000,  0.0000])\n",
      "root_qs_max tensor([ 0.0000, -0.0100, -0.0100,  0.0000,  0.0000])\n",
      "root_ns tensor([0.0000, 0.1000, 0.1000, 0.0000, 0.0000])\n",
      "root_trail_r tensor([-0.0100])\n",
      "rollout_return tensor([-0.0100])\n",
      "max_rollout_return tensor([0.])\n",
      "root_raw_action tensor([])\n",
      "cur_action tensor([0., 1., 0., 0., 0.])\n",
      "cur_r tensor([-0.0100])\n",
      "cur_d tensor([0.])\n",
      "cur_v tensor([0.])\n",
      "cur_policy tensor([0., 0., 0., 0., 0.])\n",
      "cur_qs_mean tensor([0., 0., 0., 0., 0.])\n",
      "cur_qs_max tensor([0., 0., 0., 0., 0.])\n",
      "cur_ns tensor([0., 0., 0., 0., 0.])\n",
      "cur_raw_action tensor([])\n",
      "cur_reset tensor([0.])\n",
      "k tensor([0., 0., 1., 0., 0., 0., 0., 0., 0., 0.])\n",
      "deprec tensor([0.9700])\n",
      "action_seq tensor([1., 0., 0., 0., 0., 0., 1., 0., 0., 0., 0., 0., 0., 0., 0., 0., 0., 0.,\n",
      "        0., 0., 0., 0., 0., 0., 0., 0., 0., 0., 0., 0.])\n"
     ]
    },
    {
     "data": {
      "image/png": "[encoded data removed]",
      "text/plain": [
       "<Figure size 1200x400 with 3 Axes>"
      ]
     },
     "metadata": {},
     "output_type": "display_data"
    }
   ],
   "source": [
    "if env.flags.wrapper_type != 1:\n",
    "    # this is for augmented env\n",
    "\n",
    "    # one step of the actor\n",
    "    actor_out, actor_state = actor_net(env_out, actor_state) \n",
    "    primary_action, reset_action = actor_out.action\n",
    "    # for random action, use:\n",
    "    # primary_action = torch.tensor(env.action_space[0].sample(), device=device)\n",
    "    # reset_action = torch.tensor(env.action_space[1].sample(), device=device)\n",
    "    # for fixed action, use:\n",
    "    # primary_action = torch.full((env.env_n,), 3, dtype=torch.long, device=device)\n",
    "    # reset_action = torch.full((env.env_n,), 0, dtype=torch.long, device=device)    \n",
    "    action = (primary_action, reset_action)\n",
    "    # one step of the environment\n",
    "    state, reward, done, truncated_done, info = env.step(*action)\n",
    "    # process all output from env into a named tuple for actor to process in the next step\n",
    "    env_out = util.create_env_out(action, state, reward, done, truncated_done, info, flags) \n",
    "\n",
    "else:\n",
    "    # this is for raw env\n",
    "    actor_out, actor_state = actor_net(env_out, actor_state) \n",
    "    state, reward, done, truncated_done, info = env.step(actor_out.action)\n",
    "    env_out = util.create_env_out(actor_out.action, state, reward, done, truncated_done, info, flags) \n",
    "\n",
    "print(\"=============State=============\")\n",
    "for key, value in state.items():\n",
    "    print(key, value.shape if value is not None else \"None\")\n",
    "\n",
    "fig, axes = plt.subplots(1, 3, figsize=(12, 4))\n",
    "util.plot_raw_state(state[\"real_states\"][0], ax=axes[0], title=\"real_states \")\n",
    "if \"xs\" in state: util.plot_raw_state(state[\"xs\"][0], ax=axes[1], title=\"xs\")\n",
    "if \"hs\" in state: util.plot_raw_state(state[\"hs\"][0], ax=axes[2], title=\"hs\")\n",
    "if \"tree_reps\" in state:\n",
    "    decoded_tree_rep = env.decode_tree_reps(state[\"tree_reps\"])\n",
    "    print(\"=============TreeRep============\")\n",
    "    for key, value in decoded_tree_rep.items():\n",
    "        print(key, value[0])\n"
   ]
  }
 ],
 "metadata": {
  "kernelspec": {
   "display_name": "thinker",
   "language": "python",
   "name": "python3"
  },
  "language_info": {
   "codemirror_mode": {
    "name": "ipython",
    "version": 3
   },
   "file_extension": ".py",
   "mimetype": "text/x-python",
   "name": "python",
   "nbconvert_exporter": "python",
   "pygments_lexer": "ipython3",
   "version": "3.10.14"
  }
 },
 "nbformat": 4,
 "nbformat_minor": 2
}
